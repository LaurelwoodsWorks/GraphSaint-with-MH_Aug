{
 "cells": [
  {
   "cell_type": "code",
   "execution_count": 2,
   "metadata": {},
   "outputs": [],
   "source": [
    "import json\n",
    "import os\n",
    "from collections import namedtuple\n",
    "import scipy.sparse\n",
    "from sklearn.preprocessing import StandardScaler\n",
    "import dgl\n",
    "import numpy as np\n",
    "import torch\n",
    "from sklearn.metrics import f1_score\n",
    "\n",
    "import torch\n",
    "import torch.nn.functional as F\n",
    "from torch.utils.data import DataLoader\n",
    "import torch.nn as nn\n",
    "import torch.nn.functional as F\n",
    "import torch_geometric.utils as u\n",
    "import torch.autograd.profiler as profiler"
   ]
  },
  {
   "cell_type": "code",
   "execution_count": 3,
   "metadata": {},
   "outputs": [],
   "source": [
    "args = None\n",
    "multilabel = True"
   ]
  },
  {
   "cell_type": "code",
   "execution_count": 4,
   "metadata": {},
   "outputs": [],
   "source": [
    "if not os.path.exists('graphsaintdata') and not os.path.exists('data'):\n",
    "    raise ValueError(\"The directory graphsaintdata does not exist!\")\n",
    "elif os.path.exists('graphsaintdata') and not os.path.exists('data'):\n",
    "    os.rename('graphsaintdata', 'data')\n",
    "# prefix = \"data/{}\".format(args.dataset)#################################\n",
    "prefix = \"data/ppi\"#################################\n",
    "DataType = namedtuple('Dataset', ['num_classes', 'train_nid', 'g'])"
   ]
  },
  {
   "cell_type": "code",
   "execution_count": 5,
   "metadata": {},
   "outputs": [],
   "source": [
    "adj_full = scipy.sparse.load_npz('./{}/adj_full.npz'.format(prefix)).astype(bool)#################\n",
    "g = dgl.from_scipy(adj_full)\n",
    "num_nodes = g.num_nodes()"
   ]
  },
  {
   "cell_type": "code",
   "execution_count": 6,
   "metadata": {},
   "outputs": [],
   "source": [
    "adj_train = scipy.sparse.load_npz('./{}/adj_train.npz'.format(prefix)).astype(bool)#############\n",
    "train_nid = np.array(list(set(adj_train.nonzero()[0])))"
   ]
  },
  {
   "cell_type": "code",
   "execution_count": 7,
   "metadata": {},
   "outputs": [],
   "source": [
    "role = json.load(open('./{}/role.json'.format(prefix)))\n",
    "mask = np.zeros((num_nodes,), dtype=bool)\n",
    "train_mask = mask.copy()\n",
    "train_mask[role['tr']] = True\n",
    "val_mask = mask.copy()\n",
    "val_mask[role['va']] = True\n",
    "test_mask = mask.copy()\n",
    "test_mask[role['te']] = True"
   ]
  },
  {
   "cell_type": "code",
   "execution_count": 8,
   "metadata": {},
   "outputs": [],
   "source": [
    "feats = np.load('./{}/feats.npy'.format(prefix))\n",
    "scaler = StandardScaler()\n",
    "scaler.fit(feats[train_nid])\n",
    "feats = scaler.transform(feats)"
   ]
  },
  {
   "cell_type": "code",
   "execution_count": 9,
   "metadata": {},
   "outputs": [],
   "source": [
    "class_map = json.load(open('./{}/class_map.json'.format(prefix)))\n",
    "class_map = {int(k): v for k, v in class_map.items()}"
   ]
  },
  {
   "cell_type": "code",
   "execution_count": 10,
   "metadata": {},
   "outputs": [],
   "source": [
    "if multilabel:\n",
    "    # Multi-label binary classification\n",
    "    num_classes = len(list(class_map.values())[0])\n",
    "    class_arr = np.zeros((num_nodes, num_classes))\n",
    "    for k, v in class_map.items():\n",
    "        class_arr[k] = v\n",
    "else:\n",
    "    num_classes = max(class_map.values()) - min(class_map.values()) + 1\n",
    "    class_arr = np.zeros((num_nodes,))\n",
    "    for k, v in class_map.items():\n",
    "        class_arr[k] = v"
   ]
  },
  {
   "cell_type": "code",
   "execution_count": 11,
   "metadata": {},
   "outputs": [],
   "source": [
    "g.ndata['feat'] = torch.tensor(feats, dtype=torch.float)\n",
    "g.ndata['label'] = torch.tensor(class_arr, dtype=torch.float if multilabel else torch.long)\n",
    "g.ndata['train_mask'] = torch.tensor(train_mask, dtype=torch.bool)\n",
    "g.ndata['val_mask'] = torch.tensor(val_mask, dtype=torch.bool)\n",
    "g.ndata['test_mask'] = torch.tensor(test_mask, dtype=torch.bool)"
   ]
  },
  {
   "attachments": {},
   "cell_type": "markdown",
   "metadata": {},
   "source": [
    "# Mapping\n",
    "graphsaint -> mh-aug"
   ]
  },
  {
   "cell_type": "code",
   "execution_count": 12,
   "metadata": {},
   "outputs": [],
   "source": [
    "features = g.ndata['feat']\n",
    "labels = g.ndata['label']\n",
    "num_classes = num_classes\n",
    "bn = False"
   ]
  },
  {
   "cell_type": "code",
   "execution_count": 48,
   "metadata": {},
   "outputs": [
    {
     "name": "stderr",
     "output_type": "stream",
     "text": [
      "C:\\Users\\Laurelwoods\\AppData\\Local\\Temp\\ipykernel_22220\\843409145.py:1: UserWarning: Creating a tensor from a list of numpy.ndarrays is extremely slow. Please consider converting the list to a single numpy.ndarray with numpy.array() before converting to a tensor. (Triggered internally at ..\\torch\\csrc\\utils\\tensor_new.cpp:248.)\n",
      "  edge_index = torch.Tensor(adj_full.nonzero())\n"
     ]
    }
   ],
   "source": [
    "edge_index = torch.Tensor(adj_full.nonzero()).to(torch.int)\n",
    "train_index = g.ndata['train_mask'].tolist()\n",
    "train_label = labels[train_index]\n",
    "valid_index = g.ndata['val_mask'].tolist()\n",
    "valid_label = labels[valid_index]\n",
    "test_index = g.ndata['test_mask'].tolist()\n",
    "test_label = labels[test_index]"
   ]
  },
  {
   "cell_type": "code",
   "execution_count": 16,
   "metadata": {},
   "outputs": [
    {
     "data": {
      "text/plain": [
       "(array([    0,     0,     0, ..., 14754, 14754, 14754]),\n",
       " array([  158,   160,   571, ..., 14431, 14616, 14675]))"
      ]
     },
     "execution_count": 16,
     "metadata": {},
     "output_type": "execute_result"
    }
   ],
   "source": [
    "edge_index"
   ]
  },
  {
   "cell_type": "code",
   "execution_count": null,
   "metadata": {},
   "outputs": [],
   "source": []
  }
 ],
 "metadata": {
  "kernelspec": {
   "display_name": "Python 3",
   "language": "python",
   "name": "python3"
  },
  "language_info": {
   "codemirror_mode": {
    "name": "ipython",
    "version": 3
   },
   "file_extension": ".py",
   "mimetype": "text/x-python",
   "name": "python",
   "nbconvert_exporter": "python",
   "pygments_lexer": "ipython3",
   "version": "3.11.1"
  },
  "orig_nbformat": 4
 },
 "nbformat": 4,
 "nbformat_minor": 2
}
