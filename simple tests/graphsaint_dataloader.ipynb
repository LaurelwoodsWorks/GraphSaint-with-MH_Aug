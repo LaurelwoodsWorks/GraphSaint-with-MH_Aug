{
 "cells": [
  {
   "cell_type": "code",
   "execution_count": 1,
   "metadata": {},
   "outputs": [],
   "source": [
    "import json\n",
    "import os\n",
    "from collections import namedtuple\n",
    "import scipy.sparse\n",
    "from sklearn.preprocessing import StandardScaler\n",
    "import dgl\n",
    "import numpy as np\n",
    "import torch\n",
    "from sklearn.metrics import f1_score"
   ]
  },
  {
   "attachments": {},
   "cell_type": "markdown",
   "metadata": {},
   "source": [
    "# Data Load\n",
    "From : utils.py > load_data()"
   ]
  },
  {
   "cell_type": "code",
   "execution_count": 5,
   "metadata": {},
   "outputs": [],
   "source": [
    "args = None\n",
    "multilabel = True"
   ]
  },
  {
   "cell_type": "code",
   "execution_count": 9,
   "metadata": {},
   "outputs": [],
   "source": [
    "if not os.path.exists('graphsaintdata') and not os.path.exists('data'):\n",
    "    raise ValueError(\"The directory graphsaintdata does not exist!\")\n",
    "elif os.path.exists('graphsaintdata') and not os.path.exists('data'):\n",
    "    os.rename('graphsaintdata', 'data')\n",
    "# prefix = \"data/{}\".format(args.dataset)#################################\n",
    "prefix = \"data/ppi\"#################################\n",
    "DataType = namedtuple('Dataset', ['num_classes', 'train_nid', 'g'])"
   ]
  },
  {
   "cell_type": "code",
   "execution_count": 10,
   "metadata": {},
   "outputs": [],
   "source": [
    "adj_full = scipy.sparse.load_npz('./{}/adj_full.npz'.format(prefix)).astype(bool)#################\n",
    "g = dgl.from_scipy(adj_full)\n",
    "num_nodes = g.num_nodes()"
   ]
  },
  {
   "cell_type": "code",
   "execution_count": 19,
   "metadata": {},
   "outputs": [
    {
     "data": {
      "text/plain": [
       "<14755x14755 sparse matrix of type '<class 'numpy.bool_'>'\n",
       "\twith 450540 stored elements in Compressed Sparse Row format>"
      ]
     },
     "execution_count": 19,
     "metadata": {},
     "output_type": "execute_result"
    }
   ],
   "source": [
    "adj_full"
   ]
  },
  {
   "cell_type": "code",
   "execution_count": 11,
   "metadata": {},
   "outputs": [],
   "source": [
    "adj_train = scipy.sparse.load_npz('./{}/adj_train.npz'.format(prefix)).astype(bool)#############\n",
    "train_nid = np.array(list(set(adj_train.nonzero()[0])))"
   ]
  },
  {
   "cell_type": "code",
   "execution_count": 31,
   "metadata": {},
   "outputs": [
    {
     "data": {
      "text/plain": [
       "{0, 1, 2}"
      ]
     },
     "execution_count": 31,
     "metadata": {},
     "output_type": "execute_result"
    }
   ],
   "source": [
    "# Experiement : train_nid = np.array(list(set(adj_train.nonzero()[0])))\n",
    "\n",
    "from scipy.sparse import csr_matrix\n",
    "A = csr_matrix([[1,2,0],[0,0,3],[4,0,5]])\n",
    "\n",
    "A.nonzero()[0]  # Extract only row indices of Nonzero entries\n",
    "set(A.nonzero()[0]) # Extract row indices with at least one nonzero entry"
   ]
  },
  {
   "attachments": {},
   "cell_type": "markdown",
   "metadata": {},
   "source": [
    "# train_nid == Num of nodes having at least one edge"
   ]
  },
  {
   "cell_type": "code",
   "execution_count": 12,
   "metadata": {},
   "outputs": [],
   "source": [
    "role = json.load(open('./{}/role.json'.format(prefix)))\n",
    "mask = np.zeros((num_nodes,), dtype=bool)\n",
    "train_mask = mask.copy()\n",
    "train_mask[role['tr']] = True\n",
    "val_mask = mask.copy()\n",
    "val_mask[role['va']] = True\n",
    "test_mask = mask.copy()\n",
    "test_mask[role['te']] = True"
   ]
  },
  {
   "cell_type": "code",
   "execution_count": 33,
   "metadata": {},
   "outputs": [
    {
     "data": {
      "text/plain": [
       "dict_keys(['tr', 'va', 'te'])"
      ]
     },
     "execution_count": 33,
     "metadata": {},
     "output_type": "execute_result"
    }
   ],
   "source": [
    "role.keys()"
   ]
  },
  {
   "attachments": {},
   "cell_type": "markdown",
   "metadata": {},
   "source": [
    "# Q : What is 'va', 'te'?"
   ]
  },
  {
   "cell_type": "code",
   "execution_count": 13,
   "metadata": {},
   "outputs": [],
   "source": [
    "feats = np.load('./{}/feats.npy'.format(prefix))\n",
    "scaler = StandardScaler()\n",
    "scaler.fit(feats[train_nid])\n",
    "feats = scaler.transform(feats)"
   ]
  },
  {
   "cell_type": "code",
   "execution_count": 34,
   "metadata": {},
   "outputs": [
    {
     "data": {
      "text/plain": [
       "array([[-0.08760569, -0.08760569, -0.1132336 , ..., -0.13184157,\n",
       "        -0.14681277, -0.14717815],\n",
       "       [-0.08760569, -0.08760569, -0.1132336 , ..., -0.13184157,\n",
       "        -0.14681277, -0.14717815],\n",
       "       [-0.08760569, -0.08760569, -0.1132336 , ..., -0.13184157,\n",
       "        -0.14681277, -0.14717815],\n",
       "       ...,\n",
       "       [-0.08760569, -0.08760569, -0.1132336 , ..., -0.13184157,\n",
       "        -0.14681277, -0.14717815],\n",
       "       [-0.08760569, -0.08760569, -0.1132336 , ..., -0.13184157,\n",
       "        -0.14681277, -0.14717815],\n",
       "       [-0.08760569, -0.08760569, -0.1132336 , ..., -0.13184157,\n",
       "        -0.14681277, -0.14717815]])"
      ]
     },
     "execution_count": 34,
     "metadata": {},
     "output_type": "execute_result"
    }
   ],
   "source": [
    "feats"
   ]
  },
  {
   "cell_type": "code",
   "execution_count": 14,
   "metadata": {},
   "outputs": [],
   "source": [
    "# class_map for labels for each nodes (ppi is multilabel)\n",
    "\n",
    "class_map = json.load(open('./{}/class_map.json'.format(prefix)))\n",
    "class_map = {int(k): v for k, v in class_map.items()}"
   ]
  },
  {
   "cell_type": "code",
   "execution_count": 36,
   "metadata": {},
   "outputs": [
    {
     "data": {
      "text/plain": [
       "14755"
      ]
     },
     "execution_count": 36,
     "metadata": {},
     "output_type": "execute_result"
    }
   ],
   "source": [
    "len(class_map)"
   ]
  },
  {
   "cell_type": "code",
   "execution_count": 39,
   "metadata": {},
   "outputs": [
    {
     "data": {
      "text/plain": [
       "31"
      ]
     },
     "execution_count": 39,
     "metadata": {},
     "output_type": "execute_result"
    }
   ],
   "source": [
    "sum(class_map[0])"
   ]
  },
  {
   "cell_type": "code",
   "execution_count": 38,
   "metadata": {},
   "outputs": [
    {
     "data": {
      "text/plain": [
       "True"
      ]
     },
     "execution_count": 38,
     "metadata": {},
     "output_type": "execute_result"
    }
   ],
   "source": [
    "multilabel"
   ]
  },
  {
   "cell_type": "code",
   "execution_count": 15,
   "metadata": {},
   "outputs": [],
   "source": [
    "if multilabel:\n",
    "    # Multi-label binary classification\n",
    "    num_classes = len(list(class_map.values())[0])\n",
    "    class_arr = np.zeros((num_nodes, num_classes))\n",
    "    for k, v in class_map.items():\n",
    "        class_arr[k] = v\n",
    "else:\n",
    "    num_classes = max(class_map.values()) - min(class_map.values()) + 1\n",
    "    class_arr = np.zeros((num_nodes,))\n",
    "    for k, v in class_map.items():\n",
    "        class_arr[k] = v"
   ]
  },
  {
   "cell_type": "code",
   "execution_count": 43,
   "metadata": {},
   "outputs": [
    {
     "data": {
      "text/plain": [
       "(14755, 121)"
      ]
     },
     "execution_count": 43,
     "metadata": {},
     "output_type": "execute_result"
    }
   ],
   "source": [
    "# class_arr for mapping edges to classes (labels)\n",
    "class_arr.shape"
   ]
  },
  {
   "cell_type": "code",
   "execution_count": 16,
   "metadata": {},
   "outputs": [],
   "source": [
    "g.ndata['feat'] = torch.tensor(feats, dtype=torch.float)\n",
    "g.ndata['label'] = torch.tensor(class_arr, dtype=torch.float if multilabel else torch.long)\n",
    "g.ndata['train_mask'] = torch.tensor(train_mask, dtype=torch.bool)\n",
    "g.ndata['val_mask'] = torch.tensor(val_mask, dtype=torch.bool)\n",
    "g.ndata['test_mask'] = torch.tensor(test_mask, dtype=torch.bool)"
   ]
  },
  {
   "cell_type": "code",
   "execution_count": 17,
   "metadata": {},
   "outputs": [
    {
     "data": {
      "text/plain": [
       "Dataset(num_classes=121, train_nid=array([   0,    1,    2, ..., 9713, 9714, 9715]), g=Graph(num_nodes=14755, num_edges=450540,\n",
       "      ndata_schemes={'feat': Scheme(shape=(50,), dtype=torch.float32), 'label': Scheme(shape=(121,), dtype=torch.float32), 'train_mask': Scheme(shape=(), dtype=torch.bool), 'val_mask': Scheme(shape=(), dtype=torch.bool), 'test_mask': Scheme(shape=(), dtype=torch.bool)}\n",
       "      edata_schemes={}))"
      ]
     },
     "execution_count": 17,
     "metadata": {},
     "output_type": "execute_result"
    }
   ],
   "source": [
    "data = DataType(g=g, num_classes=num_classes, train_nid=train_nid)\n",
    "data"
   ]
  },
  {
   "attachments": {},
   "cell_type": "markdown",
   "metadata": {},
   "source": [
    "Something wrong with num_edges:\n",
    "Here, they just used sparse matrix (= row x col),\n",
    "while CORA dataset extracted only row/col with edges.\n",
    "\n",
    "i.e. \n",
    "1. in ppi, there can be node without edge\n",
    "2. in CORA, all nodes have at least one edge."
   ]
  },
  {
   "attachments": {},
   "cell_type": "markdown",
   "metadata": {},
   "source": [
    "# Preprocessing\n",
    "From: train_sampling.py > main()"
   ]
  },
  {
   "cell_type": "code",
   "execution_count": 44,
   "metadata": {},
   "outputs": [
    {
     "name": "stdout",
     "output_type": "stream",
     "text": [
      "----Data statistics------'\n",
      "#Nodes 14755\n",
      "#Edges 450540\n",
      "#Classes/Labels (multi binary labels) 121\n",
      "#Train samples 9716\n",
      "#Val samples 1825\n",
      "#Test samples 3214\n"
     ]
    }
   ],
   "source": [
    "# load and preprocess dataset\n",
    "\n",
    "# data = load_data(args, multilabel)\n",
    "g = data.g\n",
    "train_mask = g.ndata['train_mask']\n",
    "val_mask = g.ndata['val_mask']\n",
    "test_mask = g.ndata['test_mask']\n",
    "labels = g.ndata['label']\n",
    "\n",
    "train_nid = data.train_nid\n",
    "\n",
    "in_feats = g.ndata['feat'].shape[1]\n",
    "n_classes = data.num_classes\n",
    "n_nodes = g.num_nodes()\n",
    "n_edges = g.num_edges()\n",
    "\n",
    "n_train_samples = train_mask.int().sum().item()\n",
    "n_val_samples = val_mask.int().sum().item()\n",
    "n_test_samples = test_mask.int().sum().item()\n",
    "\n",
    "print(\"\"\"----Data statistics------'\n",
    "#Nodes %d\n",
    "#Edges %d\n",
    "#Classes/Labels (multi binary labels) %d\n",
    "#Train samples %d\n",
    "#Val samples %d\n",
    "#Test samples %d\"\"\" %\n",
    "        (n_nodes, n_edges, n_classes,\n",
    "        n_train_samples,\n",
    "        n_val_samples,\n",
    "        n_test_samples))\n",
    "# load sampler\n"
   ]
  },
  {
   "cell_type": "code",
   "execution_count": null,
   "metadata": {},
   "outputs": [],
   "source": []
  }
 ],
 "metadata": {
  "kernelspec": {
   "display_name": "Python 3",
   "language": "python",
   "name": "python3"
  },
  "language_info": {
   "codemirror_mode": {
    "name": "ipython",
    "version": 3
   },
   "file_extension": ".py",
   "mimetype": "text/x-python",
   "name": "python",
   "nbconvert_exporter": "python",
   "pygments_lexer": "ipython3",
   "version": "3.11.1"
  },
  "orig_nbformat": 4
 },
 "nbformat": 4,
 "nbformat_minor": 2
}
